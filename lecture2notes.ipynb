{
 "cells": [
  {
   "cell_type": "markdown",
   "metadata": {},
   "source": [
    "<h1 align = 'center' > Lecture 2 </h2>\n"
   ]
  },
  {
   "cell_type": "markdown",
   "metadata": {},
   "source": [
    "Numerically solving differential equations \n",
    "\n",
    "Simpliest type of ode \n",
    "\n",
    "$$ \\frac{dx}{dt} = \\frac{4x}{t} $$\n",
    "\n",
    "This could be solved through seperation of variables \n",
    "\n",
    "However suppose\n",
    "\n",
    "\n",
    "$$ \\frac{dx}{dt} = \\frac{4x}{t} + \\frac{2x^2}{t^3} $$\n",
    "\n",
    "This cannot be solved analytically but can be using a computer \n",
    "\n",
    "the general form of a firs torder one-dependent-variable ODE is\n",
    "\n",
    "$$ \\frac{dx}{dt} = f(x,t) $$\n",
    "\n",
    "\n",
    "\n"
   ]
  },
  {
   "cell_type": "markdown",
   "metadata": {},
   "source": [
    "<h3 align='center'> Euler Method </h3>\n",
    "\n",
    "$$ x(t+h) = x(t) + hf(x,t) $$\n",
    "\n",
    "iterative process!\n",
    "\n",
    "number of steps.\n",
    "\n",
    "$$ N = (a-b)/h $$\n",
    "\n",
    "The total cumulative error as we solve from a to b is \n",
    "\n",
    "$$ \\frac{1}{2} h [ f(x(b),b)-f(x(a),a)] $$\n",
    "\n",
    "This can be extended to use higher terms of the taylor expansion \n",
    "\n"
   ]
  },
  {
   "cell_type": "markdown",
   "metadata": {
    "vscode": {
     "languageId": "plaintext"
    }
   },
   "source": [
    "<h3 align ='center' > Raunge-Kutte Methods </h3>\n",
    "\n",
    "There are many Raunge-Kutte methods of different orders,\n",
    "\n",
    "The most common one is the 4th order method, which is given by:\n",
    "\n",
    "$$ y_{n+1} = y_n + \\frac{h}{6} (k_1 + 2k_2 + 2k_3 + k_4) $$\n",
    "\n",
    "where: y is the value of the function at the current step, h is the step size, and k1, k2, k3, and k4 are given by,\n",
    "\n",
    "see wikipedia page.  https://en.wikipedia.org/wiki/Runge%E2%80%93Kutta_methods . \n",
    "\n",
    "Each step has error $ O(h^3) $ leaving the whole process accurate in order of $O(h^2)$\n",
    "\n"
   ]
  },
  {
   "cell_type": "markdown",
   "metadata": {
    "vscode": {
     "languageId": "plaintext"
    }
   },
   "source": [
    " general form for two first order simultaneous odes\n",
    "\n",
    " $$ \\frac{dx}{dt} = f_x(x,y,t) ,  \\frac{dy}{dt} =f_y(x,y,t) $$\n"
   ]
  },
  {
   "cell_type": "markdown",
   "metadata": {},
   "source": []
  }
 ],
 "metadata": {
  "language_info": {
   "name": "python"
  }
 },
 "nbformat": 4,
 "nbformat_minor": 2
}
